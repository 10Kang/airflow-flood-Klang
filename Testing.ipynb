{
 "cells": [
  {
   "cell_type": "code",
   "execution_count": 3,
   "id": "99d88ce2-1a46-4b38-87ea-18856ed5ae1c",
   "metadata": {},
   "outputs": [],
   "source": [
    "from extract_load_data import extract_load_data\n"
   ]
  },
  {
   "cell_type": "code",
   "execution_count": 4,
   "id": "ef2b85bd-1968-4ca2-9c9a-fd584dbf0098",
   "metadata": {},
   "outputs": [
    {
     "name": "stdout",
     "output_type": "stream",
     "text": [
      "There are 17 insertion in total!\n"
     ]
    }
   ],
   "source": [
    "extract_load_data()"
   ]
  },
  {
   "cell_type": "code",
   "execution_count": 5,
   "id": "4193624a-194f-4523-82fc-2494569d0fc3",
   "metadata": {},
   "outputs": [],
   "source": [
    "from datetime import datetime"
   ]
  },
  {
   "cell_type": "code",
   "execution_count": 10,
   "id": "c9c5434a-1d2c-4d9f-9121-791a6dbc39e3",
   "metadata": {},
   "outputs": [
    {
     "data": {
      "text/plain": [
       "datetime.datetime(2023, 9, 24, 19, 26, 4, 782916, tzinfo=<DstTzInfo 'Asia/Kuala_Lumpur' +08+8:00:00 STD>)"
      ]
     },
     "execution_count": 10,
     "metadata": {},
     "output_type": "execute_result"
    }
   ],
   "source": [
    "datetime.now(tz=pytz.timezone('Asia/Kuala_Lumpur'))"
   ]
  },
  {
   "cell_type": "code",
   "execution_count": 8,
   "id": "84ec3594-ce7f-414b-8333-45789ce6583d",
   "metadata": {},
   "outputs": [],
   "source": [
    "import pytz"
   ]
  },
  {
   "cell_type": "code",
   "execution_count": 9,
   "id": "14779c7b-5c56-4886-ab23-b31d487f2f99",
   "metadata": {},
   "outputs": [
    {
     "data": {
      "text/plain": [
       "<DstTzInfo 'Asia/Kuala_Lumpur' LMT+6:55:00 STD>"
      ]
     },
     "execution_count": 9,
     "metadata": {},
     "output_type": "execute_result"
    }
   ],
   "source": [
    "pytz.timezone('Asia/Kuala_Lumpur')"
   ]
  },
  {
   "cell_type": "code",
   "execution_count": 11,
   "id": "ada82961-a3de-4d91-a162-0991851c3b50",
   "metadata": {},
   "outputs": [],
   "source": [
    "from datetime import datetime\n",
    "import pytz\n",
    "\n",
    "# Get the current local datetime\n",
    "local_datetime = datetime.now()\n",
    "\n",
    "# Convert the local datetime to UTC\n",
    "utc_datetime = local_datetime.astimezone(pytz.utc)"
   ]
  },
  {
   "cell_type": "code",
   "execution_count": 12,
   "id": "3a959fc7-c7e6-4403-907e-de253eacce24",
   "metadata": {},
   "outputs": [
    {
     "data": {
      "text/plain": [
       "datetime.datetime(2023, 9, 24, 11, 31, 54, 573483, tzinfo=<UTC>)"
      ]
     },
     "execution_count": 12,
     "metadata": {},
     "output_type": "execute_result"
    }
   ],
   "source": [
    "utc_datetime\n"
   ]
  },
  {
   "cell_type": "code",
   "execution_count": 13,
   "id": "1649dcab-ef65-438b-b345-63184bf3bf5e",
   "metadata": {},
   "outputs": [
    {
     "data": {
      "text/plain": [
       "datetime.datetime(2023, 9, 24, 19, 32, 22, 818582)"
      ]
     },
     "execution_count": 13,
     "metadata": {},
     "output_type": "execute_result"
    }
   ],
   "source": [
    "datetime.now()"
   ]
  },
  {
   "cell_type": "code",
   "execution_count": null,
   "id": "55fa1158-3c70-43d9-bfc0-34107394e8c9",
   "metadata": {},
   "outputs": [],
   "source": []
  }
 ],
 "metadata": {
  "kernelspec": {
   "display_name": "Python 3.10 (portfolio)",
   "language": "python",
   "name": "portfolio"
  },
  "language_info": {
   "codemirror_mode": {
    "name": "ipython",
    "version": 3
   },
   "file_extension": ".py",
   "mimetype": "text/x-python",
   "name": "python",
   "nbconvert_exporter": "python",
   "pygments_lexer": "ipython3",
   "version": "3.10.8"
  }
 },
 "nbformat": 4,
 "nbformat_minor": 5
}
